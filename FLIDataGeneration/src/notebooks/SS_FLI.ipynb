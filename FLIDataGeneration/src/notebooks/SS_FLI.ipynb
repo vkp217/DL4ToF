{
 "cells": [
  {
   "cell_type": "code",
   "execution_count": 1,
   "metadata": {},
   "outputs": [],
   "source": [
    "import numpy as np\n",
    "import sys\n",
    "import os\n",
    "\n",
    "# sys.path.append(os.path.abspath('../..'))\n",
    "# sys.path.append(os.path.join(os.path.abspath('../..'), 'src'))\n",
    "sys.path.append(\"../..\")"
   ]
  },
  {
   "cell_type": "code",
   "execution_count": 3,
   "metadata": {},
   "outputs": [],
   "source": [
    "\n",
    "from src.simulation.fli_generator import FliDataGenerator"
   ]
  },
  {
   "cell_type": "code",
   "execution_count": 4,
   "metadata": {},
   "outputs": [],
   "source": [
    "def generate_dummy_data():\n",
    "    img_height, img_width = 10, 10  # Example dimensions for the 2D image\n",
    "    irf_depth = 50  # Example depth for the 3D IRF array\n",
    "\n",
    "    # Create random IRF with shape (depth, height, width)\n",
    "    irf = np.random.rand(5, 5, irf_depth)  # 5x5 IRF with a depth of 50\n",
    "\n",
    "    # Create random image with shape (height, width)\n",
    "    img = np.random.rand(img_height, img_width)\n",
    "\n",
    "    # Define tau1, tau2, and frac1 as lists with two elements\n",
    "    tau1 = [1.0, 5.0]  # Example range for tau1\n",
    "    tau2 = [1.0, 10.0]  # Example range for tau2\n",
    "    frac1 = [0.2, 0.8]  # Example range for frac1\n",
    "\n",
    "    # Define gate width and gate\n",
    "    gate_width = 0.5  # Example gate width in nanoseconds\n",
    "    gate = irf_depth  # Set gate to match IRF depth\n",
    "\n",
    "    return irf, img, tau1, tau2, frac1, gate_width, gate"
   ]
  },
  {
   "cell_type": "code",
   "execution_count": 5,
   "metadata": {},
   "outputs": [],
   "source": [
    "irf, img, tau1, tau2, frac1, gate_width, gate = generate_dummy_data()"
   ]
  },
  {
   "cell_type": "code",
   "execution_count": 9,
   "metadata": {},
   "outputs": [],
   "source": [
    "\n",
    "    # Initialize the FliDataGenerator class\n",
    "fli_generator = FliDataGenerator(irf, img, tau1, tau2, frac1, gate_width, gate, noise_=True)\n",
    "\n",
    "    # Generate decay parameters\n",
    "stack_parameters = fli_generator.decay_gen()"
   ]
  },
  {
   "cell_type": "code",
   "execution_count": 7,
   "metadata": {},
   "outputs": [],
   "source": []
  },
  {
   "cell_type": "code",
   "execution_count": 11,
   "metadata": {},
   "outputs": [
    {
     "name": "stdout",
     "output_type": "stream",
     "text": [
      "Stack Parameters Shape: (10, 10, 4)\n",
      "IRF Out Shape: (10, 10, 50)\n",
      "A Shape: (10, 10, 50)\n",
      "B Shape: (10, 10, 50)\n",
      "Decay Shape: (10, 10, 50)\n",
      "Convolution Shape: (10, 10, 50)\n"
     ]
    }
   ],
   "source": [
    "print(\"Stack Parameters Shape:\", stack_parameters.shape)\n",
    "print(\"IRF Out Shape:\", fli_generator.irf_out.shape)\n",
    "print(\"A Shape:\", fli_generator.A.shape)\n",
    "print(\"B Shape:\", fli_generator.B.shape)\n",
    "print(\"Decay Shape:\", fli_generator.dec.shape)\n",
    "print(\"Convolution Shape:\", fli_generator.dec_conv.shape)"
   ]
  }
 ],
 "metadata": {
  "kernelspec": {
   "display_name": "base",
   "language": "python",
   "name": "python3"
  },
  "language_info": {
   "codemirror_mode": {
    "name": "ipython",
    "version": 3
   },
   "file_extension": ".py",
   "mimetype": "text/x-python",
   "name": "python",
   "nbconvert_exporter": "python",
   "pygments_lexer": "ipython3",
   "version": "3.12.2"
  }
 },
 "nbformat": 4,
 "nbformat_minor": 2
}
